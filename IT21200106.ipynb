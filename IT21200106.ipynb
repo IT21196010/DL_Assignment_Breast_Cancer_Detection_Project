{
 "cells": [
  {
   "cell_type": "code",
   "execution_count": null,
   "metadata": {},
   "outputs": [],
   "source": [
    "#install kaggle\n",
    "!pip install -q kaggle"
   ]
  },
  {
   "cell_type": "code",
   "execution_count": null,
   "metadata": {},
   "outputs": [],
   "source": [
    "#upload kaggle API key\n",
    "from google.colab import files\n",
    "files.upload()"
   ]
  },
  {
   "cell_type": "code",
   "execution_count": null,
   "metadata": {},
   "outputs": [],
   "source": [
    "#ceate kaggle directory in user's default path\n",
    "!mkdir ~/.kaggle"
   ]
  },
  {
   "cell_type": "code",
   "execution_count": null,
   "metadata": {},
   "outputs": [],
   "source": [
    "#copy kaggle API key to kaggle directory\n",
    "!cp kaggle.json ~/.kaggle/"
   ]
  },
  {
   "cell_type": "code",
   "execution_count": null,
   "metadata": {},
   "outputs": [],
   "source": [
    "#Permission grant for the json file\n",
    "!chmod 600 ~/.kaggle/kaggle.json"
   ]
  },
  {
   "cell_type": "code",
   "execution_count": null,
   "metadata": {},
   "outputs": [],
   "source": [
    "#import the kaggle breast cancer dataset\n",
    "!kaggle datasets download -d paultimothymooney/breast-histopathology-images"
   ]
  },
  {
   "cell_type": "code",
   "execution_count": null,
   "metadata": {},
   "outputs": [],
   "source": [
    "#unzip the imported kaggle breast cancer dataset\n",
    "!unzip breast-histopathology-images.zip"
   ]
  },
  {
   "cell_type": "code",
   "execution_count": null,
   "metadata": {},
   "outputs": [],
   "source": [
    "#ceate dataset directory\n",
    "!mkdir /content/dataset/"
   ]
  },
  {
   "cell_type": "code",
   "execution_count": null,
   "metadata": {},
   "outputs": [],
   "source": [
    "#ceate dataset/benign directory\n",
    "!mkdir /content/dataset/benign/"
   ]
  },
  {
   "cell_type": "code",
   "execution_count": null,
   "metadata": {},
   "outputs": [],
   "source": [
    "#ceate dataset/malignant directory\n",
    "!mkdir /content/dataset/malignant/"
   ]
  },
  {
   "cell_type": "code",
   "execution_count": null,
   "metadata": {},
   "outputs": [],
   "source": [
    "#remove the unwanted directory\n",
    "!rm -rf /content/IDC_regular_ps50_idx5"
   ]
  },
  {
   "cell_type": "code",
   "execution_count": null,
   "metadata": {},
   "outputs": [],
   "source": [
    "#import necessary Dependencies\n",
    "import glob\n",
    "import shutil\n",
    "import os\n",
    "import math\n",
    "import tensorflow as tf\n",
    "from tensorflow.keras import models, layers\n",
    "import matplotlib.pyplot as plt\n",
    "from IPython.display import HTML"
   ]
  },
  {
   "cell_type": "markdown",
   "metadata": {},
   "source": [
    "Take Balance sample of images (20000) from original dataset (avoid underrepresent of one class that may causes oversampling or undersampling)"
   ]
  },
  {
   "cell_type": "code",
   "execution_count": null,
   "metadata": {},
   "outputs": [],
   "source": [
    "#create benign image dataset without duplicates\n",
    "\n",
    "# Get all png files from group of folders\n",
    "png_files = glob.glob(\"/content/**/0/*.png\", recursive=True)[:20000]\n",
    "\n",
    "# Move the png files to the dataset folder and filter duplicates\n",
    "for png_file in png_files:\n",
    "    if not os.path.exists(\"/content/dataset/benign/\" + os.path.basename(png_file)):\n",
    "        shutil.move(png_file, \"/content/dataset/benign/\")"
   ]
  },
  {
   "cell_type": "code",
   "execution_count": null,
   "metadata": {},
   "outputs": [],
   "source": [
    "#create malignant image dataset without duplicates\n",
    "\n",
    "# Get all png files in group of folders\n",
    "png_files = glob.glob(\"/content/**/1/*.png\", recursive=True)[:20000]\n",
    "\n",
    "# Move the png files to the dataset folder\n",
    "for png_file in png_files:\n",
    "    if not os.path.exists(\"/content/dataset/malignant/\" + os.path.basename(png_file)):\n",
    "        shutil.move(png_file, \"/content/dataset/malignant/\")"
   ]
  },
  {
   "cell_type": "code",
   "execution_count": null,
   "metadata": {},
   "outputs": [],
   "source": [
    "#count benign and malignant images\n",
    "\n",
    "# Get all PNG files in the dataset benign folder\n",
    "png_files = glob.glob(\"/content/dataset/benign/*.png\")\n",
    "\n",
    "# Count the number of PNG files\n",
    "num_png_files = len(png_files)\n",
    "print(num_png_files)\n",
    "\n",
    "# Get all PNG files in the dataset malignant folder\n",
    "png_files = glob.glob(\"/content/dataset/malignant/*.png\")\n",
    "\n",
    "# Count the number of PNG files\n",
    "num_png_files = len(png_files)\n",
    "print(num_png_files)\n"
   ]
  }
 ],
 "metadata": {
  "language_info": {
   "name": "python"
  }
 },
 "nbformat": 4,
 "nbformat_minor": 2
}
